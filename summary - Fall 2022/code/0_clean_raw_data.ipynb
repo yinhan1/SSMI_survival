{
 "cells": [
  {
   "cell_type": "code",
   "execution_count": 1,
   "id": "13d6d63f",
   "metadata": {},
   "outputs": [],
   "source": [
    "import os\n",
    "import time\n",
    "import numpy as np\n",
    "import pandas as pd\n",
    "import matplotlib.pyplot as plt\n",
    "\n",
    "from IPython.core.interactiveshell import InteractiveShell\n",
    "InteractiveShell.ast_node_interactivity = \"all\"\n",
    "\n",
    "dropbox_folder = '/Users/hanyin/Dropbox (CSU Fullerton)/Research/Flies/'\n",
    "project_folder = '/Kshama&Arnie -- statistical analysis/summary - Fall 2022/'\n",
    "os.chdir(dropbox_folder + project_folder)"
   ]
  },
  {
   "cell_type": "markdown",
   "id": "eafc12db",
   "metadata": {},
   "source": [
    "### Part 1: Load Data File"
   ]
  },
  {
   "cell_type": "code",
   "execution_count": 2,
   "id": "601348ec",
   "metadata": {},
   "outputs": [
    {
     "name": "stdout",
     "output_type": "stream",
     "text": [
      "Sheet 0: SSMI Mating    -->    mating (1736, 12)\n",
      "Sheet 1: Diet 1    -->    diet1 (1680, 9)\n",
      "Sheet 2: Diet 2: Diet Switch    -->    diet2 (1728, 9)\n",
      "Sheet 3: Diet 3: Yeast Variation    -->    diet3 (896, 9)\n"
     ]
    }
   ],
   "source": [
    "from numbers_parser import Document\n",
    "\n",
    "doc = Document('data/data_raw.numbers')\n",
    "sheets = doc.sheets\n",
    "\n",
    "df_names = ['mating','diet1','diet2','diet3']\n",
    "for num in range(len(df_names)):    \n",
    "    sheet_name = sheets[num].name\n",
    "    data = sheets[num].tables[0].rows(values_only = True)\n",
    "    globals()[df_names[num]] = pd.DataFrame(data[1:], columns = data[0])\n",
    "    \n",
    "    shape = globals()[df_names[num]].shape\n",
    "    print(f'Sheet {num}: {sheet_name}    -->    {df_names[num]} ({shape[0]}, {shape[1]})')"
   ]
  },
  {
   "cell_type": "markdown",
   "id": "38af03ab",
   "metadata": {},
   "source": [
    "### Part 2: Format and Clean\n",
    "#### (a) SSMI Mating"
   ]
  },
  {
   "cell_type": "code",
   "execution_count": 3,
   "id": "1ca8da20",
   "metadata": {},
   "outputs": [],
   "source": [
    "def clean_nan(text, dic):\n",
    "    for i, j in dic.items():\n",
    "        text = text.replace(i, j)\n",
    "    return text\n",
    "\n",
    "mapping = {'NA':'NaN', 'N/A':'NaN', 'None':'NaN'}"
   ]
  },
  {
   "cell_type": "code",
   "execution_count": 4,
   "id": "d01675b2",
   "metadata": {},
   "outputs": [],
   "source": [
    "## clean col Eggs\n",
    "mating['Eggs'] = [clean_nan(str(egg), mapping) for egg in mating['Eggs']]\n",
    "\n",
    "## clean col Larval\n",
    "mating['Larval Viability'] = [clean_nan(str(larva), mapping) for larva in mating['Larval Viability']]\n",
    "\n",
    "## rename fungal treatment\n",
    "mating['Treatment'] = mating['Treatment'].replace('Fungal', 'Inoculated')"
   ]
  },
  {
   "cell_type": "markdown",
   "id": "6cee3020",
   "metadata": {},
   "source": [
    "#### (b) Diet 1 & 2 & 3"
   ]
  },
  {
   "cell_type": "code",
   "execution_count": 5,
   "id": "5855ca8d",
   "metadata": {},
   "outputs": [],
   "source": [
    "def clean_diet(diet):\n",
    "    return ['/'.join([''.join(ingredient.strip()[0] for ingredient in meal.split('+')) \\\n",
    "            for meal in meals.split(',')][:2]) \\\n",
    "            for meals in diet]"
   ]
  },
  {
   "cell_type": "code",
   "execution_count": 6,
   "id": "9b5285f1",
   "metadata": {},
   "outputs": [],
   "source": [
    "## rename col Diet\n",
    "diet1['Diet'] = clean_diet(diet1['Diet'])\n",
    "diet2['Diet'] = clean_diet(diet2['Diet'])\n",
    "\n",
    "## cut off col Day\n",
    "diet1 = diet1[diet1['Day'] <= 12]\n",
    "diet2 = diet2[diet2['Day'] <= 9]\n",
    "diet3 = diet3[diet3['Day'] <= 12]"
   ]
  },
  {
   "cell_type": "markdown",
   "id": "adbf0df2",
   "metadata": {},
   "source": [
    "### Part 3: Write Out"
   ]
  },
  {
   "cell_type": "code",
   "execution_count": 7,
   "id": "6f570b6d",
   "metadata": {},
   "outputs": [],
   "source": [
    "writer = pd.ExcelWriter('data/data_clean.xlsx', engine = 'xlsxwriter')\n",
    "\n",
    "for sheet in sheets:\n",
    "    globals()[df_names[num]].to_excel(writer, sheet_name = sheet.name.replace(':',''))\n",
    "\n",
    "writer.save()"
   ]
  },
  {
   "cell_type": "code",
   "execution_count": null,
   "id": "f19694ed",
   "metadata": {},
   "outputs": [],
   "source": []
  }
 ],
 "metadata": {
  "kernelspec": {
   "display_name": "Python 3",
   "language": "python",
   "name": "python3"
  },
  "language_info": {
   "codemirror_mode": {
    "name": "ipython",
    "version": 3
   },
   "file_extension": ".py",
   "mimetype": "text/x-python",
   "name": "python",
   "nbconvert_exporter": "python",
   "pygments_lexer": "ipython3",
   "version": "3.8.8"
  }
 },
 "nbformat": 4,
 "nbformat_minor": 5
}
